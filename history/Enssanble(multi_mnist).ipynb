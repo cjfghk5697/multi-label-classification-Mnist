{
  "nbformat": 4,
  "nbformat_minor": 0,
  "metadata": {
    "colab": {
      "name": "Enssanble(multi-mnist).ipynb",
      "provenance": [],
      "collapsed_sections": [],
      "machine_shape": "hm",
      "mount_file_id": "1pLdHp2JZOFkAmfBWKnXJxdRcNntZCfvV",
      "authorship_tag": "ABX9TyPLqgVdn/RUOvLudJWzsRkb",
      "include_colab_link": true
    },
    "kernelspec": {
      "name": "python3",
      "display_name": "Python 3"
    },
    "language_info": {
      "name": "python"
    },
    "accelerator": "GPU",
    "widgets": {
      "application/vnd.jupyter.widget-state+json": {
        "c6287266461b48859d85b3d428122565": {
          "model_module": "@jupyter-widgets/controls",
          "model_name": "HBoxModel",
          "model_module_version": "1.5.0",
          "state": {
            "_dom_classes": [],
            "_model_module": "@jupyter-widgets/controls",
            "_model_module_version": "1.5.0",
            "_model_name": "HBoxModel",
            "_view_count": null,
            "_view_module": "@jupyter-widgets/controls",
            "_view_module_version": "1.5.0",
            "_view_name": "HBoxView",
            "box_style": "",
            "children": [
              "IPY_MODEL_6e4302f930024714a06b107387bb639b",
              "IPY_MODEL_4c0f503c6b104d6db78b9e4012c0cf91",
              "IPY_MODEL_f9ace636e6be412b99bb5873ecae220e"
            ],
            "layout": "IPY_MODEL_1f8ad8e46b1346c6bcf9c029360c8f01"
          }
        },
        "6e4302f930024714a06b107387bb639b": {
          "model_module": "@jupyter-widgets/controls",
          "model_name": "HTMLModel",
          "model_module_version": "1.5.0",
          "state": {
            "_dom_classes": [],
            "_model_module": "@jupyter-widgets/controls",
            "_model_module_version": "1.5.0",
            "_model_name": "HTMLModel",
            "_view_count": null,
            "_view_module": "@jupyter-widgets/controls",
            "_view_module_version": "1.5.0",
            "_view_name": "HTMLView",
            "description": "",
            "description_tooltip": null,
            "layout": "IPY_MODEL_8784e847fd9048bf904c8d750de8ee7c",
            "placeholder": "​",
            "style": "IPY_MODEL_32dc6989e0fe484893db967b5e96fad1",
            "value": "100%"
          }
        },
        "4c0f503c6b104d6db78b9e4012c0cf91": {
          "model_module": "@jupyter-widgets/controls",
          "model_name": "FloatProgressModel",
          "model_module_version": "1.5.0",
          "state": {
            "_dom_classes": [],
            "_model_module": "@jupyter-widgets/controls",
            "_model_module_version": "1.5.0",
            "_model_name": "FloatProgressModel",
            "_view_count": null,
            "_view_module": "@jupyter-widgets/controls",
            "_view_module_version": "1.5.0",
            "_view_name": "ProgressView",
            "bar_style": "success",
            "description": "",
            "description_tooltip": null,
            "layout": "IPY_MODEL_a11a4ba8293c4bf78452173166c7983c",
            "max": 21444401,
            "min": 0,
            "orientation": "horizontal",
            "style": "IPY_MODEL_0b9cc08303bb4afcbaa1368602fb6efe",
            "value": 21444401
          }
        },
        "f9ace636e6be412b99bb5873ecae220e": {
          "model_module": "@jupyter-widgets/controls",
          "model_name": "HTMLModel",
          "model_module_version": "1.5.0",
          "state": {
            "_dom_classes": [],
            "_model_module": "@jupyter-widgets/controls",
            "_model_module_version": "1.5.0",
            "_model_name": "HTMLModel",
            "_view_count": null,
            "_view_module": "@jupyter-widgets/controls",
            "_view_module_version": "1.5.0",
            "_view_name": "HTMLView",
            "description": "",
            "description_tooltip": null,
            "layout": "IPY_MODEL_26860b48072c4fb6bf442d42f8c60213",
            "placeholder": "​",
            "style": "IPY_MODEL_53abc1eb3dd545dda21a59ac9c949031",
            "value": " 20.5M/20.5M [00:00&lt;00:00, 40.8MB/s]"
          }
        },
        "1f8ad8e46b1346c6bcf9c029360c8f01": {
          "model_module": "@jupyter-widgets/base",
          "model_name": "LayoutModel",
          "model_module_version": "1.2.0",
          "state": {
            "_model_module": "@jupyter-widgets/base",
            "_model_module_version": "1.2.0",
            "_model_name": "LayoutModel",
            "_view_count": null,
            "_view_module": "@jupyter-widgets/base",
            "_view_module_version": "1.2.0",
            "_view_name": "LayoutView",
            "align_content": null,
            "align_items": null,
            "align_self": null,
            "border": null,
            "bottom": null,
            "display": null,
            "flex": null,
            "flex_flow": null,
            "grid_area": null,
            "grid_auto_columns": null,
            "grid_auto_flow": null,
            "grid_auto_rows": null,
            "grid_column": null,
            "grid_gap": null,
            "grid_row": null,
            "grid_template_areas": null,
            "grid_template_columns": null,
            "grid_template_rows": null,
            "height": null,
            "justify_content": null,
            "justify_items": null,
            "left": null,
            "margin": null,
            "max_height": null,
            "max_width": null,
            "min_height": null,
            "min_width": null,
            "object_fit": null,
            "object_position": null,
            "order": null,
            "overflow": null,
            "overflow_x": null,
            "overflow_y": null,
            "padding": null,
            "right": null,
            "top": null,
            "visibility": null,
            "width": null
          }
        },
        "8784e847fd9048bf904c8d750de8ee7c": {
          "model_module": "@jupyter-widgets/base",
          "model_name": "LayoutModel",
          "model_module_version": "1.2.0",
          "state": {
            "_model_module": "@jupyter-widgets/base",
            "_model_module_version": "1.2.0",
            "_model_name": "LayoutModel",
            "_view_count": null,
            "_view_module": "@jupyter-widgets/base",
            "_view_module_version": "1.2.0",
            "_view_name": "LayoutView",
            "align_content": null,
            "align_items": null,
            "align_self": null,
            "border": null,
            "bottom": null,
            "display": null,
            "flex": null,
            "flex_flow": null,
            "grid_area": null,
            "grid_auto_columns": null,
            "grid_auto_flow": null,
            "grid_auto_rows": null,
            "grid_column": null,
            "grid_gap": null,
            "grid_row": null,
            "grid_template_areas": null,
            "grid_template_columns": null,
            "grid_template_rows": null,
            "height": null,
            "justify_content": null,
            "justify_items": null,
            "left": null,
            "margin": null,
            "max_height": null,
            "max_width": null,
            "min_height": null,
            "min_width": null,
            "object_fit": null,
            "object_position": null,
            "order": null,
            "overflow": null,
            "overflow_x": null,
            "overflow_y": null,
            "padding": null,
            "right": null,
            "top": null,
            "visibility": null,
            "width": null
          }
        },
        "32dc6989e0fe484893db967b5e96fad1": {
          "model_module": "@jupyter-widgets/controls",
          "model_name": "DescriptionStyleModel",
          "model_module_version": "1.5.0",
          "state": {
            "_model_module": "@jupyter-widgets/controls",
            "_model_module_version": "1.5.0",
            "_model_name": "DescriptionStyleModel",
            "_view_count": null,
            "_view_module": "@jupyter-widgets/base",
            "_view_module_version": "1.2.0",
            "_view_name": "StyleView",
            "description_width": ""
          }
        },
        "a11a4ba8293c4bf78452173166c7983c": {
          "model_module": "@jupyter-widgets/base",
          "model_name": "LayoutModel",
          "model_module_version": "1.2.0",
          "state": {
            "_model_module": "@jupyter-widgets/base",
            "_model_module_version": "1.2.0",
            "_model_name": "LayoutModel",
            "_view_count": null,
            "_view_module": "@jupyter-widgets/base",
            "_view_module_version": "1.2.0",
            "_view_name": "LayoutView",
            "align_content": null,
            "align_items": null,
            "align_self": null,
            "border": null,
            "bottom": null,
            "display": null,
            "flex": null,
            "flex_flow": null,
            "grid_area": null,
            "grid_auto_columns": null,
            "grid_auto_flow": null,
            "grid_auto_rows": null,
            "grid_column": null,
            "grid_gap": null,
            "grid_row": null,
            "grid_template_areas": null,
            "grid_template_columns": null,
            "grid_template_rows": null,
            "height": null,
            "justify_content": null,
            "justify_items": null,
            "left": null,
            "margin": null,
            "max_height": null,
            "max_width": null,
            "min_height": null,
            "min_width": null,
            "object_fit": null,
            "object_position": null,
            "order": null,
            "overflow": null,
            "overflow_x": null,
            "overflow_y": null,
            "padding": null,
            "right": null,
            "top": null,
            "visibility": null,
            "width": null
          }
        },
        "0b9cc08303bb4afcbaa1368602fb6efe": {
          "model_module": "@jupyter-widgets/controls",
          "model_name": "ProgressStyleModel",
          "model_module_version": "1.5.0",
          "state": {
            "_model_module": "@jupyter-widgets/controls",
            "_model_module_version": "1.5.0",
            "_model_name": "ProgressStyleModel",
            "_view_count": null,
            "_view_module": "@jupyter-widgets/base",
            "_view_module_version": "1.2.0",
            "_view_name": "StyleView",
            "bar_color": null,
            "description_width": ""
          }
        },
        "26860b48072c4fb6bf442d42f8c60213": {
          "model_module": "@jupyter-widgets/base",
          "model_name": "LayoutModel",
          "model_module_version": "1.2.0",
          "state": {
            "_model_module": "@jupyter-widgets/base",
            "_model_module_version": "1.2.0",
            "_model_name": "LayoutModel",
            "_view_count": null,
            "_view_module": "@jupyter-widgets/base",
            "_view_module_version": "1.2.0",
            "_view_name": "LayoutView",
            "align_content": null,
            "align_items": null,
            "align_self": null,
            "border": null,
            "bottom": null,
            "display": null,
            "flex": null,
            "flex_flow": null,
            "grid_area": null,
            "grid_auto_columns": null,
            "grid_auto_flow": null,
            "grid_auto_rows": null,
            "grid_column": null,
            "grid_gap": null,
            "grid_row": null,
            "grid_template_areas": null,
            "grid_template_columns": null,
            "grid_template_rows": null,
            "height": null,
            "justify_content": null,
            "justify_items": null,
            "left": null,
            "margin": null,
            "max_height": null,
            "max_width": null,
            "min_height": null,
            "min_width": null,
            "object_fit": null,
            "object_position": null,
            "order": null,
            "overflow": null,
            "overflow_x": null,
            "overflow_y": null,
            "padding": null,
            "right": null,
            "top": null,
            "visibility": null,
            "width": null
          }
        },
        "53abc1eb3dd545dda21a59ac9c949031": {
          "model_module": "@jupyter-widgets/controls",
          "model_name": "DescriptionStyleModel",
          "model_module_version": "1.5.0",
          "state": {
            "_model_module": "@jupyter-widgets/controls",
            "_model_module_version": "1.5.0",
            "_model_name": "DescriptionStyleModel",
            "_view_count": null,
            "_view_module": "@jupyter-widgets/base",
            "_view_module_version": "1.2.0",
            "_view_name": "StyleView",
            "description_width": ""
          }
        }
      }
    }
  },
  "cells": [
    {
      "cell_type": "markdown",
      "metadata": {
        "id": "view-in-github",
        "colab_type": "text"
      },
      "source": [
        "<a href=\"https://colab.research.google.com/github/cjfghk5697/multi-label-classification-Mnist/blob/main/Enssanble(multi_mnist).ipynb\" target=\"_parent\"><img src=\"https://colab.research.google.com/assets/colab-badge.svg\" alt=\"Open In Colab\"/></a>"
      ]
    },
    {
      "cell_type": "code",
      "source": [
        "%cd /content/drive/MyDrive/Test image2\n",
        "!unzip -qq \"/content/drive/MyDrive/multi-mnist zipfile/test_dirty_mnist_2nd.zip\""
      ],
      "metadata": {
        "colab": {
          "base_uri": "https://localhost:8080/"
        },
        "id": "hyGw1WXF7Ars",
        "outputId": "9df96c36-cbaa-4740-e510-172faaf63398"
      },
      "execution_count": 5,
      "outputs": [
        {
          "output_type": "stream",
          "name": "stdout",
          "text": [
            "/content/drive/MyDrive/Test image2\n"
          ]
        }
      ]
    },
    {
      "cell_type": "code",
      "source": [
        "from torchvision.models import resnet34\n",
        "import os\n",
        "from typing import Tuple, Sequence, Callable\n",
        "import csv\n",
        "import cv2\n",
        "import numpy as np\n",
        "import pandas as pd\n",
        "import torch\n",
        "from torch import nn, Tensor\n",
        "from torch.utils.data import Dataset, DataLoader\n",
        "from torchvision import transforms\n",
        "from PIL import Image\n"
      ],
      "metadata": {
        "id": "Ko9U_BhBm_HH"
      },
      "execution_count": 6,
      "outputs": []
    },
    {
      "cell_type": "markdown",
      "source": [
        ""
      ],
      "metadata": {
        "id": "pcMvFPeWXwdu"
      }
    },
    {
      "cell_type": "code",
      "source": [
        "class MnistDataset(Dataset):\n",
        "    def __init__(\n",
        "        self,\n",
        "        dir: os.PathLike,\n",
        "        image_ids: os.PathLike,\n",
        "        transforms: Sequence[Callable]\n",
        "    ) -> None:\n",
        "        self.dir = dir\n",
        "        self.transforms = transforms\n",
        "\n",
        "        self.labels = {}\n",
        "        with open(image_ids, 'r') as f:\n",
        "            reader = csv.reader(f)\n",
        "            next(reader)\n",
        "            for row in reader:\n",
        "                self.labels[int(row[0])] = list(map(int, row[1:]))\n",
        "\n",
        "        self.image_ids = list(self.labels.keys())\n",
        "\n",
        "    def __len__(self) -> int:\n",
        "        return len(self.image_ids)\n",
        "\n",
        "    def __getitem__(self, index: int) -> Tuple[Tensor]:\n",
        "        image_id = self.image_ids[index]\n",
        "        image = Image.open(\n",
        "            os.path.join(\n",
        "                self.dir, f'{str(image_id).zfill(5)}.png')).convert('RGB')\n",
        "        target = np.array(self.labels.get(image_id)).astype(np.float32)\n",
        "\n",
        "        if self.transforms is not None:\n",
        "            image = self.transforms(image)\n",
        "\n",
        "        return image, target"
      ],
      "metadata": {
        "id": "Sb8Wxhi0m5u3"
      },
      "execution_count": 7,
      "outputs": []
    },
    {
      "cell_type": "code",
      "execution_count": 8,
      "metadata": {
        "id": "OyBOney5miOK"
      },
      "outputs": [],
      "source": [
        "#test Dataset 정의\n",
        "transforms_test = transforms.Compose([\n",
        "    transforms.ToTensor(),\n",
        "    transforms.Normalize(\n",
        "        [0.485, 0.456, 0.406],\n",
        "        [0.229, 0.224, 0.225]\n",
        "    )\n",
        "])\n",
        "\n",
        "batch_size=32\n",
        "sample_submission = pd.read_csv(\"/content/drive/MyDrive/sample_submission.csv\")\n",
        "testset = MnistDataset('/content/drive/MyDrive/Test image2', '/content/drive/MyDrive/sample_submission.csv', transforms_test)\n"
      ]
    },
    {
      "cell_type": "code",
      "source": [
        "from torchvision.models.efficientnet import efficientnet_b0\n",
        "class MnistModel(nn.Module):\n",
        "    def __init__(self) -> None:\n",
        "        super().__init__()\n",
        "        self.resnet = efficientnet_b0(pretrained=True)\n",
        "        self.classifier = nn.Linear(1000, 26)\n",
        "\n",
        "    def forward(self, x):\n",
        "        x = self.resnet(x)\n",
        "        x = self.classifier(x)\n",
        "\n",
        "        return x"
      ],
      "metadata": {
        "id": "2dAYEzm7nq9G"
      },
      "execution_count": 9,
      "outputs": []
    },
    {
      "cell_type": "code",
      "source": [
        "device = torch.device('cuda' if torch.cuda.is_available() else 'cpu')\n",
        "\n",
        "model = MnistModel().to(device)\n",
        "path = \"/content/drive/MyDrive/models/\"\n",
        "MODEL = \"efficientnet5\"\n",
        "model_list=[]\n",
        "\n",
        "model.load_state_dict(torch.load(f'{path}_efficientnet5_1.pth'), strict=False)"
      ],
      "metadata": {
        "colab": {
          "base_uri": "https://localhost:8080/",
          "height": 106,
          "referenced_widgets": [
            "c6287266461b48859d85b3d428122565",
            "6e4302f930024714a06b107387bb639b",
            "4c0f503c6b104d6db78b9e4012c0cf91",
            "f9ace636e6be412b99bb5873ecae220e",
            "1f8ad8e46b1346c6bcf9c029360c8f01",
            "8784e847fd9048bf904c8d750de8ee7c",
            "32dc6989e0fe484893db967b5e96fad1",
            "a11a4ba8293c4bf78452173166c7983c",
            "0b9cc08303bb4afcbaa1368602fb6efe",
            "26860b48072c4fb6bf442d42f8c60213",
            "53abc1eb3dd545dda21a59ac9c949031"
          ]
        },
        "id": "KEU8MYcdnn-n",
        "outputId": "5a47c501-d1f0-4cd1-e0fa-151d3ed6da71"
      },
      "execution_count": 10,
      "outputs": [
        {
          "output_type": "stream",
          "name": "stderr",
          "text": [
            "Downloading: \"https://download.pytorch.org/models/efficientnet_b0_rwightman-3dd342df.pth\" to /root/.cache/torch/hub/checkpoints/efficientnet_b0_rwightman-3dd342df.pth\n"
          ]
        },
        {
          "output_type": "display_data",
          "data": {
            "text/plain": [
              "  0%|          | 0.00/20.5M [00:00<?, ?B/s]"
            ],
            "application/vnd.jupyter.widget-view+json": {
              "version_major": 2,
              "version_minor": 0,
              "model_id": "c6287266461b48859d85b3d428122565"
            }
          },
          "metadata": {}
        },
        {
          "output_type": "execute_result",
          "data": {
            "text/plain": [
              "_IncompatibleKeys(missing_keys=['resnet.features.0.0.weight', 'resnet.features.0.1.weight', 'resnet.features.0.1.bias', 'resnet.features.0.1.running_mean', 'resnet.features.0.1.running_var', 'resnet.features.1.0.block.0.0.weight', 'resnet.features.1.0.block.0.1.weight', 'resnet.features.1.0.block.0.1.bias', 'resnet.features.1.0.block.0.1.running_mean', 'resnet.features.1.0.block.0.1.running_var', 'resnet.features.1.0.block.1.fc1.weight', 'resnet.features.1.0.block.1.fc1.bias', 'resnet.features.1.0.block.1.fc2.weight', 'resnet.features.1.0.block.1.fc2.bias', 'resnet.features.1.0.block.2.0.weight', 'resnet.features.1.0.block.2.1.weight', 'resnet.features.1.0.block.2.1.bias', 'resnet.features.1.0.block.2.1.running_mean', 'resnet.features.1.0.block.2.1.running_var', 'resnet.features.2.0.block.0.0.weight', 'resnet.features.2.0.block.0.1.weight', 'resnet.features.2.0.block.0.1.bias', 'resnet.features.2.0.block.0.1.running_mean', 'resnet.features.2.0.block.0.1.running_var', 'resnet.features.2.0.block.1.0.weight', 'resnet.features.2.0.block.1.1.weight', 'resnet.features.2.0.block.1.1.bias', 'resnet.features.2.0.block.1.1.running_mean', 'resnet.features.2.0.block.1.1.running_var', 'resnet.features.2.0.block.2.fc1.weight', 'resnet.features.2.0.block.2.fc1.bias', 'resnet.features.2.0.block.2.fc2.weight', 'resnet.features.2.0.block.2.fc2.bias', 'resnet.features.2.0.block.3.0.weight', 'resnet.features.2.0.block.3.1.weight', 'resnet.features.2.0.block.3.1.bias', 'resnet.features.2.0.block.3.1.running_mean', 'resnet.features.2.0.block.3.1.running_var', 'resnet.features.2.1.block.0.0.weight', 'resnet.features.2.1.block.0.1.weight', 'resnet.features.2.1.block.0.1.bias', 'resnet.features.2.1.block.0.1.running_mean', 'resnet.features.2.1.block.0.1.running_var', 'resnet.features.2.1.block.1.0.weight', 'resnet.features.2.1.block.1.1.weight', 'resnet.features.2.1.block.1.1.bias', 'resnet.features.2.1.block.1.1.running_mean', 'resnet.features.2.1.block.1.1.running_var', 'resnet.features.2.1.block.2.fc1.weight', 'resnet.features.2.1.block.2.fc1.bias', 'resnet.features.2.1.block.2.fc2.weight', 'resnet.features.2.1.block.2.fc2.bias', 'resnet.features.2.1.block.3.0.weight', 'resnet.features.2.1.block.3.1.weight', 'resnet.features.2.1.block.3.1.bias', 'resnet.features.2.1.block.3.1.running_mean', 'resnet.features.2.1.block.3.1.running_var', 'resnet.features.3.0.block.0.0.weight', 'resnet.features.3.0.block.0.1.weight', 'resnet.features.3.0.block.0.1.bias', 'resnet.features.3.0.block.0.1.running_mean', 'resnet.features.3.0.block.0.1.running_var', 'resnet.features.3.0.block.1.0.weight', 'resnet.features.3.0.block.1.1.weight', 'resnet.features.3.0.block.1.1.bias', 'resnet.features.3.0.block.1.1.running_mean', 'resnet.features.3.0.block.1.1.running_var', 'resnet.features.3.0.block.2.fc1.weight', 'resnet.features.3.0.block.2.fc1.bias', 'resnet.features.3.0.block.2.fc2.weight', 'resnet.features.3.0.block.2.fc2.bias', 'resnet.features.3.0.block.3.0.weight', 'resnet.features.3.0.block.3.1.weight', 'resnet.features.3.0.block.3.1.bias', 'resnet.features.3.0.block.3.1.running_mean', 'resnet.features.3.0.block.3.1.running_var', 'resnet.features.3.1.block.0.0.weight', 'resnet.features.3.1.block.0.1.weight', 'resnet.features.3.1.block.0.1.bias', 'resnet.features.3.1.block.0.1.running_mean', 'resnet.features.3.1.block.0.1.running_var', 'resnet.features.3.1.block.1.0.weight', 'resnet.features.3.1.block.1.1.weight', 'resnet.features.3.1.block.1.1.bias', 'resnet.features.3.1.block.1.1.running_mean', 'resnet.features.3.1.block.1.1.running_var', 'resnet.features.3.1.block.2.fc1.weight', 'resnet.features.3.1.block.2.fc1.bias', 'resnet.features.3.1.block.2.fc2.weight', 'resnet.features.3.1.block.2.fc2.bias', 'resnet.features.3.1.block.3.0.weight', 'resnet.features.3.1.block.3.1.weight', 'resnet.features.3.1.block.3.1.bias', 'resnet.features.3.1.block.3.1.running_mean', 'resnet.features.3.1.block.3.1.running_var', 'resnet.features.4.0.block.0.0.weight', 'resnet.features.4.0.block.0.1.weight', 'resnet.features.4.0.block.0.1.bias', 'resnet.features.4.0.block.0.1.running_mean', 'resnet.features.4.0.block.0.1.running_var', 'resnet.features.4.0.block.1.0.weight', 'resnet.features.4.0.block.1.1.weight', 'resnet.features.4.0.block.1.1.bias', 'resnet.features.4.0.block.1.1.running_mean', 'resnet.features.4.0.block.1.1.running_var', 'resnet.features.4.0.block.2.fc1.weight', 'resnet.features.4.0.block.2.fc1.bias', 'resnet.features.4.0.block.2.fc2.weight', 'resnet.features.4.0.block.2.fc2.bias', 'resnet.features.4.0.block.3.0.weight', 'resnet.features.4.0.block.3.1.weight', 'resnet.features.4.0.block.3.1.bias', 'resnet.features.4.0.block.3.1.running_mean', 'resnet.features.4.0.block.3.1.running_var', 'resnet.features.4.1.block.0.0.weight', 'resnet.features.4.1.block.0.1.weight', 'resnet.features.4.1.block.0.1.bias', 'resnet.features.4.1.block.0.1.running_mean', 'resnet.features.4.1.block.0.1.running_var', 'resnet.features.4.1.block.1.0.weight', 'resnet.features.4.1.block.1.1.weight', 'resnet.features.4.1.block.1.1.bias', 'resnet.features.4.1.block.1.1.running_mean', 'resnet.features.4.1.block.1.1.running_var', 'resnet.features.4.1.block.2.fc1.weight', 'resnet.features.4.1.block.2.fc1.bias', 'resnet.features.4.1.block.2.fc2.weight', 'resnet.features.4.1.block.2.fc2.bias', 'resnet.features.4.1.block.3.0.weight', 'resnet.features.4.1.block.3.1.weight', 'resnet.features.4.1.block.3.1.bias', 'resnet.features.4.1.block.3.1.running_mean', 'resnet.features.4.1.block.3.1.running_var', 'resnet.features.4.2.block.0.0.weight', 'resnet.features.4.2.block.0.1.weight', 'resnet.features.4.2.block.0.1.bias', 'resnet.features.4.2.block.0.1.running_mean', 'resnet.features.4.2.block.0.1.running_var', 'resnet.features.4.2.block.1.0.weight', 'resnet.features.4.2.block.1.1.weight', 'resnet.features.4.2.block.1.1.bias', 'resnet.features.4.2.block.1.1.running_mean', 'resnet.features.4.2.block.1.1.running_var', 'resnet.features.4.2.block.2.fc1.weight', 'resnet.features.4.2.block.2.fc1.bias', 'resnet.features.4.2.block.2.fc2.weight', 'resnet.features.4.2.block.2.fc2.bias', 'resnet.features.4.2.block.3.0.weight', 'resnet.features.4.2.block.3.1.weight', 'resnet.features.4.2.block.3.1.bias', 'resnet.features.4.2.block.3.1.running_mean', 'resnet.features.4.2.block.3.1.running_var', 'resnet.features.5.0.block.0.0.weight', 'resnet.features.5.0.block.0.1.weight', 'resnet.features.5.0.block.0.1.bias', 'resnet.features.5.0.block.0.1.running_mean', 'resnet.features.5.0.block.0.1.running_var', 'resnet.features.5.0.block.1.0.weight', 'resnet.features.5.0.block.1.1.weight', 'resnet.features.5.0.block.1.1.bias', 'resnet.features.5.0.block.1.1.running_mean', 'resnet.features.5.0.block.1.1.running_var', 'resnet.features.5.0.block.2.fc1.weight', 'resnet.features.5.0.block.2.fc1.bias', 'resnet.features.5.0.block.2.fc2.weight', 'resnet.features.5.0.block.2.fc2.bias', 'resnet.features.5.0.block.3.0.weight', 'resnet.features.5.0.block.3.1.weight', 'resnet.features.5.0.block.3.1.bias', 'resnet.features.5.0.block.3.1.running_mean', 'resnet.features.5.0.block.3.1.running_var', 'resnet.features.5.1.block.0.0.weight', 'resnet.features.5.1.block.0.1.weight', 'resnet.features.5.1.block.0.1.bias', 'resnet.features.5.1.block.0.1.running_mean', 'resnet.features.5.1.block.0.1.running_var', 'resnet.features.5.1.block.1.0.weight', 'resnet.features.5.1.block.1.1.weight', 'resnet.features.5.1.block.1.1.bias', 'resnet.features.5.1.block.1.1.running_mean', 'resnet.features.5.1.block.1.1.running_var', 'resnet.features.5.1.block.2.fc1.weight', 'resnet.features.5.1.block.2.fc1.bias', 'resnet.features.5.1.block.2.fc2.weight', 'resnet.features.5.1.block.2.fc2.bias', 'resnet.features.5.1.block.3.0.weight', 'resnet.features.5.1.block.3.1.weight', 'resnet.features.5.1.block.3.1.bias', 'resnet.features.5.1.block.3.1.running_mean', 'resnet.features.5.1.block.3.1.running_var', 'resnet.features.5.2.block.0.0.weight', 'resnet.features.5.2.block.0.1.weight', 'resnet.features.5.2.block.0.1.bias', 'resnet.features.5.2.block.0.1.running_mean', 'resnet.features.5.2.block.0.1.running_var', 'resnet.features.5.2.block.1.0.weight', 'resnet.features.5.2.block.1.1.weight', 'resnet.features.5.2.block.1.1.bias', 'resnet.features.5.2.block.1.1.running_mean', 'resnet.features.5.2.block.1.1.running_var', 'resnet.features.5.2.block.2.fc1.weight', 'resnet.features.5.2.block.2.fc1.bias', 'resnet.features.5.2.block.2.fc2.weight', 'resnet.features.5.2.block.2.fc2.bias', 'resnet.features.5.2.block.3.0.weight', 'resnet.features.5.2.block.3.1.weight', 'resnet.features.5.2.block.3.1.bias', 'resnet.features.5.2.block.3.1.running_mean', 'resnet.features.5.2.block.3.1.running_var', 'resnet.features.6.0.block.0.0.weight', 'resnet.features.6.0.block.0.1.weight', 'resnet.features.6.0.block.0.1.bias', 'resnet.features.6.0.block.0.1.running_mean', 'resnet.features.6.0.block.0.1.running_var', 'resnet.features.6.0.block.1.0.weight', 'resnet.features.6.0.block.1.1.weight', 'resnet.features.6.0.block.1.1.bias', 'resnet.features.6.0.block.1.1.running_mean', 'resnet.features.6.0.block.1.1.running_var', 'resnet.features.6.0.block.2.fc1.weight', 'resnet.features.6.0.block.2.fc1.bias', 'resnet.features.6.0.block.2.fc2.weight', 'resnet.features.6.0.block.2.fc2.bias', 'resnet.features.6.0.block.3.0.weight', 'resnet.features.6.0.block.3.1.weight', 'resnet.features.6.0.block.3.1.bias', 'resnet.features.6.0.block.3.1.running_mean', 'resnet.features.6.0.block.3.1.running_var', 'resnet.features.6.1.block.0.0.weight', 'resnet.features.6.1.block.0.1.weight', 'resnet.features.6.1.block.0.1.bias', 'resnet.features.6.1.block.0.1.running_mean', 'resnet.features.6.1.block.0.1.running_var', 'resnet.features.6.1.block.1.0.weight', 'resnet.features.6.1.block.1.1.weight', 'resnet.features.6.1.block.1.1.bias', 'resnet.features.6.1.block.1.1.running_mean', 'resnet.features.6.1.block.1.1.running_var', 'resnet.features.6.1.block.2.fc1.weight', 'resnet.features.6.1.block.2.fc1.bias', 'resnet.features.6.1.block.2.fc2.weight', 'resnet.features.6.1.block.2.fc2.bias', 'resnet.features.6.1.block.3.0.weight', 'resnet.features.6.1.block.3.1.weight', 'resnet.features.6.1.block.3.1.bias', 'resnet.features.6.1.block.3.1.running_mean', 'resnet.features.6.1.block.3.1.running_var', 'resnet.features.6.2.block.0.0.weight', 'resnet.features.6.2.block.0.1.weight', 'resnet.features.6.2.block.0.1.bias', 'resnet.features.6.2.block.0.1.running_mean', 'resnet.features.6.2.block.0.1.running_var', 'resnet.features.6.2.block.1.0.weight', 'resnet.features.6.2.block.1.1.weight', 'resnet.features.6.2.block.1.1.bias', 'resnet.features.6.2.block.1.1.running_mean', 'resnet.features.6.2.block.1.1.running_var', 'resnet.features.6.2.block.2.fc1.weight', 'resnet.features.6.2.block.2.fc1.bias', 'resnet.features.6.2.block.2.fc2.weight', 'resnet.features.6.2.block.2.fc2.bias', 'resnet.features.6.2.block.3.0.weight', 'resnet.features.6.2.block.3.1.weight', 'resnet.features.6.2.block.3.1.bias', 'resnet.features.6.2.block.3.1.running_mean', 'resnet.features.6.2.block.3.1.running_var', 'resnet.features.6.3.block.0.0.weight', 'resnet.features.6.3.block.0.1.weight', 'resnet.features.6.3.block.0.1.bias', 'resnet.features.6.3.block.0.1.running_mean', 'resnet.features.6.3.block.0.1.running_var', 'resnet.features.6.3.block.1.0.weight', 'resnet.features.6.3.block.1.1.weight', 'resnet.features.6.3.block.1.1.bias', 'resnet.features.6.3.block.1.1.running_mean', 'resnet.features.6.3.block.1.1.running_var', 'resnet.features.6.3.block.2.fc1.weight', 'resnet.features.6.3.block.2.fc1.bias', 'resnet.features.6.3.block.2.fc2.weight', 'resnet.features.6.3.block.2.fc2.bias', 'resnet.features.6.3.block.3.0.weight', 'resnet.features.6.3.block.3.1.weight', 'resnet.features.6.3.block.3.1.bias', 'resnet.features.6.3.block.3.1.running_mean', 'resnet.features.6.3.block.3.1.running_var', 'resnet.features.7.0.block.0.0.weight', 'resnet.features.7.0.block.0.1.weight', 'resnet.features.7.0.block.0.1.bias', 'resnet.features.7.0.block.0.1.running_mean', 'resnet.features.7.0.block.0.1.running_var', 'resnet.features.7.0.block.1.0.weight', 'resnet.features.7.0.block.1.1.weight', 'resnet.features.7.0.block.1.1.bias', 'resnet.features.7.0.block.1.1.running_mean', 'resnet.features.7.0.block.1.1.running_var', 'resnet.features.7.0.block.2.fc1.weight', 'resnet.features.7.0.block.2.fc1.bias', 'resnet.features.7.0.block.2.fc2.weight', 'resnet.features.7.0.block.2.fc2.bias', 'resnet.features.7.0.block.3.0.weight', 'resnet.features.7.0.block.3.1.weight', 'resnet.features.7.0.block.3.1.bias', 'resnet.features.7.0.block.3.1.running_mean', 'resnet.features.7.0.block.3.1.running_var', 'resnet.features.8.0.weight', 'resnet.features.8.1.weight', 'resnet.features.8.1.bias', 'resnet.features.8.1.running_mean', 'resnet.features.8.1.running_var', 'resnet.classifier.1.weight', 'resnet.classifier.1.bias'], unexpected_keys=['model.features.0.0.weight', 'model.features.0.1.weight', 'model.features.0.1.bias', 'model.features.0.1.running_mean', 'model.features.0.1.running_var', 'model.features.0.1.num_batches_tracked', 'model.features.1.0.block.0.0.weight', 'model.features.1.0.block.0.1.weight', 'model.features.1.0.block.0.1.bias', 'model.features.1.0.block.0.1.running_mean', 'model.features.1.0.block.0.1.running_var', 'model.features.1.0.block.0.1.num_batches_tracked', 'model.features.1.0.block.1.fc1.weight', 'model.features.1.0.block.1.fc1.bias', 'model.features.1.0.block.1.fc2.weight', 'model.features.1.0.block.1.fc2.bias', 'model.features.1.0.block.2.0.weight', 'model.features.1.0.block.2.1.weight', 'model.features.1.0.block.2.1.bias', 'model.features.1.0.block.2.1.running_mean', 'model.features.1.0.block.2.1.running_var', 'model.features.1.0.block.2.1.num_batches_tracked', 'model.features.2.0.block.0.0.weight', 'model.features.2.0.block.0.1.weight', 'model.features.2.0.block.0.1.bias', 'model.features.2.0.block.0.1.running_mean', 'model.features.2.0.block.0.1.running_var', 'model.features.2.0.block.0.1.num_batches_tracked', 'model.features.2.0.block.1.0.weight', 'model.features.2.0.block.1.1.weight', 'model.features.2.0.block.1.1.bias', 'model.features.2.0.block.1.1.running_mean', 'model.features.2.0.block.1.1.running_var', 'model.features.2.0.block.1.1.num_batches_tracked', 'model.features.2.0.block.2.fc1.weight', 'model.features.2.0.block.2.fc1.bias', 'model.features.2.0.block.2.fc2.weight', 'model.features.2.0.block.2.fc2.bias', 'model.features.2.0.block.3.0.weight', 'model.features.2.0.block.3.1.weight', 'model.features.2.0.block.3.1.bias', 'model.features.2.0.block.3.1.running_mean', 'model.features.2.0.block.3.1.running_var', 'model.features.2.0.block.3.1.num_batches_tracked', 'model.features.2.1.block.0.0.weight', 'model.features.2.1.block.0.1.weight', 'model.features.2.1.block.0.1.bias', 'model.features.2.1.block.0.1.running_mean', 'model.features.2.1.block.0.1.running_var', 'model.features.2.1.block.0.1.num_batches_tracked', 'model.features.2.1.block.1.0.weight', 'model.features.2.1.block.1.1.weight', 'model.features.2.1.block.1.1.bias', 'model.features.2.1.block.1.1.running_mean', 'model.features.2.1.block.1.1.running_var', 'model.features.2.1.block.1.1.num_batches_tracked', 'model.features.2.1.block.2.fc1.weight', 'model.features.2.1.block.2.fc1.bias', 'model.features.2.1.block.2.fc2.weight', 'model.features.2.1.block.2.fc2.bias', 'model.features.2.1.block.3.0.weight', 'model.features.2.1.block.3.1.weight', 'model.features.2.1.block.3.1.bias', 'model.features.2.1.block.3.1.running_mean', 'model.features.2.1.block.3.1.running_var', 'model.features.2.1.block.3.1.num_batches_tracked', 'model.features.3.0.block.0.0.weight', 'model.features.3.0.block.0.1.weight', 'model.features.3.0.block.0.1.bias', 'model.features.3.0.block.0.1.running_mean', 'model.features.3.0.block.0.1.running_var', 'model.features.3.0.block.0.1.num_batches_tracked', 'model.features.3.0.block.1.0.weight', 'model.features.3.0.block.1.1.weight', 'model.features.3.0.block.1.1.bias', 'model.features.3.0.block.1.1.running_mean', 'model.features.3.0.block.1.1.running_var', 'model.features.3.0.block.1.1.num_batches_tracked', 'model.features.3.0.block.2.fc1.weight', 'model.features.3.0.block.2.fc1.bias', 'model.features.3.0.block.2.fc2.weight', 'model.features.3.0.block.2.fc2.bias', 'model.features.3.0.block.3.0.weight', 'model.features.3.0.block.3.1.weight', 'model.features.3.0.block.3.1.bias', 'model.features.3.0.block.3.1.running_mean', 'model.features.3.0.block.3.1.running_var', 'model.features.3.0.block.3.1.num_batches_tracked', 'model.features.3.1.block.0.0.weight', 'model.features.3.1.block.0.1.weight', 'model.features.3.1.block.0.1.bias', 'model.features.3.1.block.0.1.running_mean', 'model.features.3.1.block.0.1.running_var', 'model.features.3.1.block.0.1.num_batches_tracked', 'model.features.3.1.block.1.0.weight', 'model.features.3.1.block.1.1.weight', 'model.features.3.1.block.1.1.bias', 'model.features.3.1.block.1.1.running_mean', 'model.features.3.1.block.1.1.running_var', 'model.features.3.1.block.1.1.num_batches_tracked', 'model.features.3.1.block.2.fc1.weight', 'model.features.3.1.block.2.fc1.bias', 'model.features.3.1.block.2.fc2.weight', 'model.features.3.1.block.2.fc2.bias', 'model.features.3.1.block.3.0.weight', 'model.features.3.1.block.3.1.weight', 'model.features.3.1.block.3.1.bias', 'model.features.3.1.block.3.1.running_mean', 'model.features.3.1.block.3.1.running_var', 'model.features.3.1.block.3.1.num_batches_tracked', 'model.features.4.0.block.0.0.weight', 'model.features.4.0.block.0.1.weight', 'model.features.4.0.block.0.1.bias', 'model.features.4.0.block.0.1.running_mean', 'model.features.4.0.block.0.1.running_var', 'model.features.4.0.block.0.1.num_batches_tracked', 'model.features.4.0.block.1.0.weight', 'model.features.4.0.block.1.1.weight', 'model.features.4.0.block.1.1.bias', 'model.features.4.0.block.1.1.running_mean', 'model.features.4.0.block.1.1.running_var', 'model.features.4.0.block.1.1.num_batches_tracked', 'model.features.4.0.block.2.fc1.weight', 'model.features.4.0.block.2.fc1.bias', 'model.features.4.0.block.2.fc2.weight', 'model.features.4.0.block.2.fc2.bias', 'model.features.4.0.block.3.0.weight', 'model.features.4.0.block.3.1.weight', 'model.features.4.0.block.3.1.bias', 'model.features.4.0.block.3.1.running_mean', 'model.features.4.0.block.3.1.running_var', 'model.features.4.0.block.3.1.num_batches_tracked', 'model.features.4.1.block.0.0.weight', 'model.features.4.1.block.0.1.weight', 'model.features.4.1.block.0.1.bias', 'model.features.4.1.block.0.1.running_mean', 'model.features.4.1.block.0.1.running_var', 'model.features.4.1.block.0.1.num_batches_tracked', 'model.features.4.1.block.1.0.weight', 'model.features.4.1.block.1.1.weight', 'model.features.4.1.block.1.1.bias', 'model.features.4.1.block.1.1.running_mean', 'model.features.4.1.block.1.1.running_var', 'model.features.4.1.block.1.1.num_batches_tracked', 'model.features.4.1.block.2.fc1.weight', 'model.features.4.1.block.2.fc1.bias', 'model.features.4.1.block.2.fc2.weight', 'model.features.4.1.block.2.fc2.bias', 'model.features.4.1.block.3.0.weight', 'model.features.4.1.block.3.1.weight', 'model.features.4.1.block.3.1.bias', 'model.features.4.1.block.3.1.running_mean', 'model.features.4.1.block.3.1.running_var', 'model.features.4.1.block.3.1.num_batches_tracked', 'model.features.4.2.block.0.0.weight', 'model.features.4.2.block.0.1.weight', 'model.features.4.2.block.0.1.bias', 'model.features.4.2.block.0.1.running_mean', 'model.features.4.2.block.0.1.running_var', 'model.features.4.2.block.0.1.num_batches_tracked', 'model.features.4.2.block.1.0.weight', 'model.features.4.2.block.1.1.weight', 'model.features.4.2.block.1.1.bias', 'model.features.4.2.block.1.1.running_mean', 'model.features.4.2.block.1.1.running_var', 'model.features.4.2.block.1.1.num_batches_tracked', 'model.features.4.2.block.2.fc1.weight', 'model.features.4.2.block.2.fc1.bias', 'model.features.4.2.block.2.fc2.weight', 'model.features.4.2.block.2.fc2.bias', 'model.features.4.2.block.3.0.weight', 'model.features.4.2.block.3.1.weight', 'model.features.4.2.block.3.1.bias', 'model.features.4.2.block.3.1.running_mean', 'model.features.4.2.block.3.1.running_var', 'model.features.4.2.block.3.1.num_batches_tracked', 'model.features.5.0.block.0.0.weight', 'model.features.5.0.block.0.1.weight', 'model.features.5.0.block.0.1.bias', 'model.features.5.0.block.0.1.running_mean', 'model.features.5.0.block.0.1.running_var', 'model.features.5.0.block.0.1.num_batches_tracked', 'model.features.5.0.block.1.0.weight', 'model.features.5.0.block.1.1.weight', 'model.features.5.0.block.1.1.bias', 'model.features.5.0.block.1.1.running_mean', 'model.features.5.0.block.1.1.running_var', 'model.features.5.0.block.1.1.num_batches_tracked', 'model.features.5.0.block.2.fc1.weight', 'model.features.5.0.block.2.fc1.bias', 'model.features.5.0.block.2.fc2.weight', 'model.features.5.0.block.2.fc2.bias', 'model.features.5.0.block.3.0.weight', 'model.features.5.0.block.3.1.weight', 'model.features.5.0.block.3.1.bias', 'model.features.5.0.block.3.1.running_mean', 'model.features.5.0.block.3.1.running_var', 'model.features.5.0.block.3.1.num_batches_tracked', 'model.features.5.1.block.0.0.weight', 'model.features.5.1.block.0.1.weight', 'model.features.5.1.block.0.1.bias', 'model.features.5.1.block.0.1.running_mean', 'model.features.5.1.block.0.1.running_var', 'model.features.5.1.block.0.1.num_batches_tracked', 'model.features.5.1.block.1.0.weight', 'model.features.5.1.block.1.1.weight', 'model.features.5.1.block.1.1.bias', 'model.features.5.1.block.1.1.running_mean', 'model.features.5.1.block.1.1.running_var', 'model.features.5.1.block.1.1.num_batches_tracked', 'model.features.5.1.block.2.fc1.weight', 'model.features.5.1.block.2.fc1.bias', 'model.features.5.1.block.2.fc2.weight', 'model.features.5.1.block.2.fc2.bias', 'model.features.5.1.block.3.0.weight', 'model.features.5.1.block.3.1.weight', 'model.features.5.1.block.3.1.bias', 'model.features.5.1.block.3.1.running_mean', 'model.features.5.1.block.3.1.running_var', 'model.features.5.1.block.3.1.num_batches_tracked', 'model.features.5.2.block.0.0.weight', 'model.features.5.2.block.0.1.weight', 'model.features.5.2.block.0.1.bias', 'model.features.5.2.block.0.1.running_mean', 'model.features.5.2.block.0.1.running_var', 'model.features.5.2.block.0.1.num_batches_tracked', 'model.features.5.2.block.1.0.weight', 'model.features.5.2.block.1.1.weight', 'model.features.5.2.block.1.1.bias', 'model.features.5.2.block.1.1.running_mean', 'model.features.5.2.block.1.1.running_var', 'model.features.5.2.block.1.1.num_batches_tracked', 'model.features.5.2.block.2.fc1.weight', 'model.features.5.2.block.2.fc1.bias', 'model.features.5.2.block.2.fc2.weight', 'model.features.5.2.block.2.fc2.bias', 'model.features.5.2.block.3.0.weight', 'model.features.5.2.block.3.1.weight', 'model.features.5.2.block.3.1.bias', 'model.features.5.2.block.3.1.running_mean', 'model.features.5.2.block.3.1.running_var', 'model.features.5.2.block.3.1.num_batches_tracked', 'model.features.6.0.block.0.0.weight', 'model.features.6.0.block.0.1.weight', 'model.features.6.0.block.0.1.bias', 'model.features.6.0.block.0.1.running_mean', 'model.features.6.0.block.0.1.running_var', 'model.features.6.0.block.0.1.num_batches_tracked', 'model.features.6.0.block.1.0.weight', 'model.features.6.0.block.1.1.weight', 'model.features.6.0.block.1.1.bias', 'model.features.6.0.block.1.1.running_mean', 'model.features.6.0.block.1.1.running_var', 'model.features.6.0.block.1.1.num_batches_tracked', 'model.features.6.0.block.2.fc1.weight', 'model.features.6.0.block.2.fc1.bias', 'model.features.6.0.block.2.fc2.weight', 'model.features.6.0.block.2.fc2.bias', 'model.features.6.0.block.3.0.weight', 'model.features.6.0.block.3.1.weight', 'model.features.6.0.block.3.1.bias', 'model.features.6.0.block.3.1.running_mean', 'model.features.6.0.block.3.1.running_var', 'model.features.6.0.block.3.1.num_batches_tracked', 'model.features.6.1.block.0.0.weight', 'model.features.6.1.block.0.1.weight', 'model.features.6.1.block.0.1.bias', 'model.features.6.1.block.0.1.running_mean', 'model.features.6.1.block.0.1.running_var', 'model.features.6.1.block.0.1.num_batches_tracked', 'model.features.6.1.block.1.0.weight', 'model.features.6.1.block.1.1.weight', 'model.features.6.1.block.1.1.bias', 'model.features.6.1.block.1.1.running_mean', 'model.features.6.1.block.1.1.running_var', 'model.features.6.1.block.1.1.num_batches_tracked', 'model.features.6.1.block.2.fc1.weight', 'model.features.6.1.block.2.fc1.bias', 'model.features.6.1.block.2.fc2.weight', 'model.features.6.1.block.2.fc2.bias', 'model.features.6.1.block.3.0.weight', 'model.features.6.1.block.3.1.weight', 'model.features.6.1.block.3.1.bias', 'model.features.6.1.block.3.1.running_mean', 'model.features.6.1.block.3.1.running_var', 'model.features.6.1.block.3.1.num_batches_tracked', 'model.features.6.2.block.0.0.weight', 'model.features.6.2.block.0.1.weight', 'model.features.6.2.block.0.1.bias', 'model.features.6.2.block.0.1.running_mean', 'model.features.6.2.block.0.1.running_var', 'model.features.6.2.block.0.1.num_batches_tracked', 'model.features.6.2.block.1.0.weight', 'model.features.6.2.block.1.1.weight', 'model.features.6.2.block.1.1.bias', 'model.features.6.2.block.1.1.running_mean', 'model.features.6.2.block.1.1.running_var', 'model.features.6.2.block.1.1.num_batches_tracked', 'model.features.6.2.block.2.fc1.weight', 'model.features.6.2.block.2.fc1.bias', 'model.features.6.2.block.2.fc2.weight', 'model.features.6.2.block.2.fc2.bias', 'model.features.6.2.block.3.0.weight', 'model.features.6.2.block.3.1.weight', 'model.features.6.2.block.3.1.bias', 'model.features.6.2.block.3.1.running_mean', 'model.features.6.2.block.3.1.running_var', 'model.features.6.2.block.3.1.num_batches_tracked', 'model.features.6.3.block.0.0.weight', 'model.features.6.3.block.0.1.weight', 'model.features.6.3.block.0.1.bias', 'model.features.6.3.block.0.1.running_mean', 'model.features.6.3.block.0.1.running_var', 'model.features.6.3.block.0.1.num_batches_tracked', 'model.features.6.3.block.1.0.weight', 'model.features.6.3.block.1.1.weight', 'model.features.6.3.block.1.1.bias', 'model.features.6.3.block.1.1.running_mean', 'model.features.6.3.block.1.1.running_var', 'model.features.6.3.block.1.1.num_batches_tracked', 'model.features.6.3.block.2.fc1.weight', 'model.features.6.3.block.2.fc1.bias', 'model.features.6.3.block.2.fc2.weight', 'model.features.6.3.block.2.fc2.bias', 'model.features.6.3.block.3.0.weight', 'model.features.6.3.block.3.1.weight', 'model.features.6.3.block.3.1.bias', 'model.features.6.3.block.3.1.running_mean', 'model.features.6.3.block.3.1.running_var', 'model.features.6.3.block.3.1.num_batches_tracked', 'model.features.7.0.block.0.0.weight', 'model.features.7.0.block.0.1.weight', 'model.features.7.0.block.0.1.bias', 'model.features.7.0.block.0.1.running_mean', 'model.features.7.0.block.0.1.running_var', 'model.features.7.0.block.0.1.num_batches_tracked', 'model.features.7.0.block.1.0.weight', 'model.features.7.0.block.1.1.weight', 'model.features.7.0.block.1.1.bias', 'model.features.7.0.block.1.1.running_mean', 'model.features.7.0.block.1.1.running_var', 'model.features.7.0.block.1.1.num_batches_tracked', 'model.features.7.0.block.2.fc1.weight', 'model.features.7.0.block.2.fc1.bias', 'model.features.7.0.block.2.fc2.weight', 'model.features.7.0.block.2.fc2.bias', 'model.features.7.0.block.3.0.weight', 'model.features.7.0.block.3.1.weight', 'model.features.7.0.block.3.1.bias', 'model.features.7.0.block.3.1.running_mean', 'model.features.7.0.block.3.1.running_var', 'model.features.7.0.block.3.1.num_batches_tracked', 'model.features.8.0.weight', 'model.features.8.1.weight', 'model.features.8.1.bias', 'model.features.8.1.running_mean', 'model.features.8.1.running_var', 'model.features.8.1.num_batches_tracked', 'model.classifier.1.weight', 'model.classifier.1.bias'])"
            ]
          },
          "metadata": {},
          "execution_count": 10
        }
      ]
    },
    {
      "cell_type": "code",
      "source": [
        "submit = pd.read_csv('/content/drive/MyDrive/sample_submission.csv')\n",
        "test_loader = DataLoader(testset, batch_size=32, num_workers=4)\n",
        "\n",
        "model.eval()\n",
        "batch_size = test_loader.batch_size\n",
        "batch_index = 0\n",
        "for i, (images, targets) in enumerate(test_loader):\n",
        "    images = images.to(device)\n",
        "    targets = targets.to(device)\n",
        "    outputs = model(images)\n",
        "    outputs = outputs > 0.5\n",
        "    batch_index = i * batch_size\n",
        "    submit.iloc[batch_index:batch_index+batch_size, 1:] = \\\n",
        "        outputs.long().squeeze(0).detach().cpu().numpy()\n",
        "    \n",
        "submit.to_csv('/content/drive/MyDrive/models/baseline_prediction3.csv', index=False)"
      ],
      "metadata": {
        "id": "gKImNxGnfwUX"
      },
      "execution_count": 15,
      "outputs": []
    }
  ]
}