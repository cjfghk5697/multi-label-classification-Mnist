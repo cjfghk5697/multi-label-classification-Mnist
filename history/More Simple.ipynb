{
  "metadata": {
    "language_info": {
      "codemirror_mode": {
        "name": "ipython",
        "version": 3
      },
      "file_extension": ".py",
      "mimetype": "text/x-python",
      "name": "python",
      "nbconvert_exporter": "python",
      "pygments_lexer": "ipython3",
      "version": "3.7.9-final"
    },
    "orig_nbformat": 2,
    "kernelspec": {
      "name": "python3",
      "display_name": "Python 3",
      "language": "python"
    },
    "colab": {
      "name": "파이토치를_이용한 정말 간단한 Multi-Label Classification.ipynb",
      "provenance": [],
      "include_colab_link": true
    },
    "accelerator": "GPU",
    "widgets": {
      "application/vnd.jupyter.widget-state+json": {
        "2960d35ddcf14c33bb5f494a47819b21": {
          "model_module": "@jupyter-widgets/controls",
          "model_name": "HBoxModel",
          "model_module_version": "1.5.0",
          "state": {
            "_dom_classes": [],
            "_model_module": "@jupyter-widgets/controls",
            "_model_module_version": "1.5.0",
            "_model_name": "HBoxModel",
            "_view_count": null,
            "_view_module": "@jupyter-widgets/controls",
            "_view_module_version": "1.5.0",
            "_view_name": "HBoxView",
            "box_style": "",
            "children": [
              "IPY_MODEL_fb7364c8f25d4550b721ec695eca1187",
              "IPY_MODEL_ebfc5092596641f394536a4f7abe74c2",
              "IPY_MODEL_cd124b30d17f438a8d39ab82efec48e0"
            ],
            "layout": "IPY_MODEL_44abbddda97742a888b07f0441aced4b"
          }
        },
        "fb7364c8f25d4550b721ec695eca1187": {
          "model_module": "@jupyter-widgets/controls",
          "model_name": "HTMLModel",
          "model_module_version": "1.5.0",
          "state": {
            "_dom_classes": [],
            "_model_module": "@jupyter-widgets/controls",
            "_model_module_version": "1.5.0",
            "_model_name": "HTMLModel",
            "_view_count": null,
            "_view_module": "@jupyter-widgets/controls",
            "_view_module_version": "1.5.0",
            "_view_name": "HTMLView",
            "description": "",
            "description_tooltip": null,
            "layout": "IPY_MODEL_faecdf7761ee4e84b8d3099aa1f9f9d6",
            "placeholder": "​",
            "style": "IPY_MODEL_dae637437dff4088a1b305119f1eb618",
            "value": "100%"
          }
        },
        "ebfc5092596641f394536a4f7abe74c2": {
          "model_module": "@jupyter-widgets/controls",
          "model_name": "FloatProgressModel",
          "model_module_version": "1.5.0",
          "state": {
            "_dom_classes": [],
            "_model_module": "@jupyter-widgets/controls",
            "_model_module_version": "1.5.0",
            "_model_name": "FloatProgressModel",
            "_view_count": null,
            "_view_module": "@jupyter-widgets/controls",
            "_view_module_version": "1.5.0",
            "_view_name": "ProgressView",
            "bar_style": "success",
            "description": "",
            "description_tooltip": null,
            "layout": "IPY_MODEL_e04a3c32a19845f8a14c670fe4eb8965",
            "max": 102530333,
            "min": 0,
            "orientation": "horizontal",
            "style": "IPY_MODEL_cbc73254a284433aa6d2aaf807b2860b",
            "value": 102530333
          }
        },
        "cd124b30d17f438a8d39ab82efec48e0": {
          "model_module": "@jupyter-widgets/controls",
          "model_name": "HTMLModel",
          "model_module_version": "1.5.0",
          "state": {
            "_dom_classes": [],
            "_model_module": "@jupyter-widgets/controls",
            "_model_module_version": "1.5.0",
            "_model_name": "HTMLModel",
            "_view_count": null,
            "_view_module": "@jupyter-widgets/controls",
            "_view_module_version": "1.5.0",
            "_view_name": "HTMLView",
            "description": "",
            "description_tooltip": null,
            "layout": "IPY_MODEL_c4e9e3a96c1e4199a3743197e40d24b8",
            "placeholder": "​",
            "style": "IPY_MODEL_54835c051d714dbbaac34270e465ff1a",
            "value": " 97.8M/97.8M [00:00&lt;00:00, 148MB/s]"
          }
        },
        "44abbddda97742a888b07f0441aced4b": {
          "model_module": "@jupyter-widgets/base",
          "model_name": "LayoutModel",
          "model_module_version": "1.2.0",
          "state": {
            "_model_module": "@jupyter-widgets/base",
            "_model_module_version": "1.2.0",
            "_model_name": "LayoutModel",
            "_view_count": null,
            "_view_module": "@jupyter-widgets/base",
            "_view_module_version": "1.2.0",
            "_view_name": "LayoutView",
            "align_content": null,
            "align_items": null,
            "align_self": null,
            "border": null,
            "bottom": null,
            "display": null,
            "flex": null,
            "flex_flow": null,
            "grid_area": null,
            "grid_auto_columns": null,
            "grid_auto_flow": null,
            "grid_auto_rows": null,
            "grid_column": null,
            "grid_gap": null,
            "grid_row": null,
            "grid_template_areas": null,
            "grid_template_columns": null,
            "grid_template_rows": null,
            "height": null,
            "justify_content": null,
            "justify_items": null,
            "left": null,
            "margin": null,
            "max_height": null,
            "max_width": null,
            "min_height": null,
            "min_width": null,
            "object_fit": null,
            "object_position": null,
            "order": null,
            "overflow": null,
            "overflow_x": null,
            "overflow_y": null,
            "padding": null,
            "right": null,
            "top": null,
            "visibility": null,
            "width": null
          }
        },
        "faecdf7761ee4e84b8d3099aa1f9f9d6": {
          "model_module": "@jupyter-widgets/base",
          "model_name": "LayoutModel",
          "model_module_version": "1.2.0",
          "state": {
            "_model_module": "@jupyter-widgets/base",
            "_model_module_version": "1.2.0",
            "_model_name": "LayoutModel",
            "_view_count": null,
            "_view_module": "@jupyter-widgets/base",
            "_view_module_version": "1.2.0",
            "_view_name": "LayoutView",
            "align_content": null,
            "align_items": null,
            "align_self": null,
            "border": null,
            "bottom": null,
            "display": null,
            "flex": null,
            "flex_flow": null,
            "grid_area": null,
            "grid_auto_columns": null,
            "grid_auto_flow": null,
            "grid_auto_rows": null,
            "grid_column": null,
            "grid_gap": null,
            "grid_row": null,
            "grid_template_areas": null,
            "grid_template_columns": null,
            "grid_template_rows": null,
            "height": null,
            "justify_content": null,
            "justify_items": null,
            "left": null,
            "margin": null,
            "max_height": null,
            "max_width": null,
            "min_height": null,
            "min_width": null,
            "object_fit": null,
            "object_position": null,
            "order": null,
            "overflow": null,
            "overflow_x": null,
            "overflow_y": null,
            "padding": null,
            "right": null,
            "top": null,
            "visibility": null,
            "width": null
          }
        },
        "dae637437dff4088a1b305119f1eb618": {
          "model_module": "@jupyter-widgets/controls",
          "model_name": "DescriptionStyleModel",
          "model_module_version": "1.5.0",
          "state": {
            "_model_module": "@jupyter-widgets/controls",
            "_model_module_version": "1.5.0",
            "_model_name": "DescriptionStyleModel",
            "_view_count": null,
            "_view_module": "@jupyter-widgets/base",
            "_view_module_version": "1.2.0",
            "_view_name": "StyleView",
            "description_width": ""
          }
        },
        "e04a3c32a19845f8a14c670fe4eb8965": {
          "model_module": "@jupyter-widgets/base",
          "model_name": "LayoutModel",
          "model_module_version": "1.2.0",
          "state": {
            "_model_module": "@jupyter-widgets/base",
            "_model_module_version": "1.2.0",
            "_model_name": "LayoutModel",
            "_view_count": null,
            "_view_module": "@jupyter-widgets/base",
            "_view_module_version": "1.2.0",
            "_view_name": "LayoutView",
            "align_content": null,
            "align_items": null,
            "align_self": null,
            "border": null,
            "bottom": null,
            "display": null,
            "flex": null,
            "flex_flow": null,
            "grid_area": null,
            "grid_auto_columns": null,
            "grid_auto_flow": null,
            "grid_auto_rows": null,
            "grid_column": null,
            "grid_gap": null,
            "grid_row": null,
            "grid_template_areas": null,
            "grid_template_columns": null,
            "grid_template_rows": null,
            "height": null,
            "justify_content": null,
            "justify_items": null,
            "left": null,
            "margin": null,
            "max_height": null,
            "max_width": null,
            "min_height": null,
            "min_width": null,
            "object_fit": null,
            "object_position": null,
            "order": null,
            "overflow": null,
            "overflow_x": null,
            "overflow_y": null,
            "padding": null,
            "right": null,
            "top": null,
            "visibility": null,
            "width": null
          }
        },
        "cbc73254a284433aa6d2aaf807b2860b": {
          "model_module": "@jupyter-widgets/controls",
          "model_name": "ProgressStyleModel",
          "model_module_version": "1.5.0",
          "state": {
            "_model_module": "@jupyter-widgets/controls",
            "_model_module_version": "1.5.0",
            "_model_name": "ProgressStyleModel",
            "_view_count": null,
            "_view_module": "@jupyter-widgets/base",
            "_view_module_version": "1.2.0",
            "_view_name": "StyleView",
            "bar_color": null,
            "description_width": ""
          }
        },
        "c4e9e3a96c1e4199a3743197e40d24b8": {
          "model_module": "@jupyter-widgets/base",
          "model_name": "LayoutModel",
          "model_module_version": "1.2.0",
          "state": {
            "_model_module": "@jupyter-widgets/base",
            "_model_module_version": "1.2.0",
            "_model_name": "LayoutModel",
            "_view_count": null,
            "_view_module": "@jupyter-widgets/base",
            "_view_module_version": "1.2.0",
            "_view_name": "LayoutView",
            "align_content": null,
            "align_items": null,
            "align_self": null,
            "border": null,
            "bottom": null,
            "display": null,
            "flex": null,
            "flex_flow": null,
            "grid_area": null,
            "grid_auto_columns": null,
            "grid_auto_flow": null,
            "grid_auto_rows": null,
            "grid_column": null,
            "grid_gap": null,
            "grid_row": null,
            "grid_template_areas": null,
            "grid_template_columns": null,
            "grid_template_rows": null,
            "height": null,
            "justify_content": null,
            "justify_items": null,
            "left": null,
            "margin": null,
            "max_height": null,
            "max_width": null,
            "min_height": null,
            "min_width": null,
            "object_fit": null,
            "object_position": null,
            "order": null,
            "overflow": null,
            "overflow_x": null,
            "overflow_y": null,
            "padding": null,
            "right": null,
            "top": null,
            "visibility": null,
            "width": null
          }
        },
        "54835c051d714dbbaac34270e465ff1a": {
          "model_module": "@jupyter-widgets/controls",
          "model_name": "DescriptionStyleModel",
          "model_module_version": "1.5.0",
          "state": {
            "_model_module": "@jupyter-widgets/controls",
            "_model_module_version": "1.5.0",
            "_model_name": "DescriptionStyleModel",
            "_view_count": null,
            "_view_module": "@jupyter-widgets/base",
            "_view_module_version": "1.2.0",
            "_view_name": "StyleView",
            "description_width": ""
          }
        }
      }
    }
  },
  "nbformat": 4,
  "nbformat_minor": 0,
  "cells": [
    {
      "cell_type": "markdown",
      "metadata": {
        "id": "view-in-github",
        "colab_type": "text"
      },
      "source": [
        "<a href=\"https://colab.research.google.com/github/cjfghk5697/multi-label-classification-Mnist/blob/main/More%20Simple.ipynb\" target=\"_parent\"><img src=\"https://colab.research.google.com/assets/colab-badge.svg\" alt=\"Open In Colab\"/></a>"
      ]
    },
    {
      "cell_type": "code",
      "source": [
        "from google.colab import drive\n",
        "drive.mount('/content/drive')"
      ],
      "metadata": {
        "colab": {
          "base_uri": "https://localhost:8080/"
        },
        "id": "xwV9U9iOB8M4",
        "outputId": "70758cc2-e577-4143-9f68-c3aff2984f4a"
      },
      "execution_count": 1,
      "outputs": [
        {
          "output_type": "stream",
          "name": "stdout",
          "text": [
            "Mounted at /content/drive\n"
          ]
        }
      ]
    },
    {
      "cell_type": "code",
      "source": [
        "!pip3 install torchinfo"
      ],
      "metadata": {
        "colab": {
          "base_uri": "https://localhost:8080/"
        },
        "id": "vAlgvlkUXf3Z",
        "outputId": "ef4fc6bd-da83-479e-fce5-e09030f2f177"
      },
      "execution_count": 3,
      "outputs": [
        {
          "output_type": "stream",
          "name": "stdout",
          "text": [
            "Collecting torchinfo\n",
            "  Downloading torchinfo-1.6.5-py3-none-any.whl (21 kB)\n",
            "Installing collected packages: torchinfo\n",
            "Successfully installed torchinfo-1.6.5\n"
          ]
        }
      ]
    },
    {
      "cell_type": "code",
      "execution_count": 4,
      "metadata": {
        "id": "RTMT6OMkBtpa"
      },
      "outputs": [],
      "source": [
        "import os\n",
        "from typing import Tuple, Sequence, Callable\n",
        "import csv\n",
        "import cv2\n",
        "import numpy as np\n",
        "import pandas as pd\n",
        "from PIL import Image\n",
        "import torch\n",
        "import torch.optim as optim\n",
        "from torch import nn, Tensor\n",
        "from torch.utils.data import Dataset, DataLoader\n",
        "from torchinfo import summary\n",
        "\n",
        "from torchvision import transforms\n",
        "from torchvision.models import resnet50"
      ]
    },
    {
      "source": [
        "## 1. 커스텀 데이터셋 만들기"
      ],
      "cell_type": "markdown",
      "metadata": {
        "id": "SQMtnKh9Btpi"
      }
    },
    {
      "cell_type": "code",
      "execution_count": 5,
      "metadata": {
        "id": "NjkhhJXmBtpl"
      },
      "outputs": [],
      "source": [
        "class MnistDataset(Dataset):\n",
        "    def __init__(\n",
        "        self,\n",
        "        dir: os.PathLike,\n",
        "        image_ids: os.PathLike,\n",
        "        transforms: Sequence[Callable]\n",
        "    ) -> None:\n",
        "        self.dir = dir\n",
        "        self.transforms = transforms\n",
        "\n",
        "        self.labels = {}\n",
        "        with open(image_ids, 'r') as f:\n",
        "            reader = csv.reader(f)\n",
        "            next(reader)\n",
        "            for row in reader:\n",
        "                self.labels[int(row[0])] = list(map(int, row[1:]))\n",
        "\n",
        "        self.image_ids = list(self.labels.keys())\n",
        "\n",
        "    def __len__(self) -> int:\n",
        "        return len(self.image_ids)\n",
        "\n",
        "    def __getitem__(self, index: int) -> Tuple[Tensor]:\n",
        "        image_id = self.image_ids[index]\n",
        "        image = Image.open(\n",
        "            os.path.join(\n",
        "                self.dir, f'{str(image_id).zfill(5)}.png')).convert('RGB')\n",
        "        target = np.array(self.labels.get(image_id)).astype(np.float32)\n",
        "\n",
        "        if self.transforms is not None:\n",
        "            image = self.transforms(image)\n",
        "\n",
        "        return image, target"
      ]
    },
    {
      "source": [
        "## 2. 이미지 어그멘테이션"
      ],
      "cell_type": "markdown",
      "metadata": {
        "id": "UoSfoQnxBtpo"
      }
    },
    {
      "cell_type": "code",
      "execution_count": 6,
      "metadata": {
        "id": "GJ0iMdDKBtpp"
      },
      "outputs": [],
      "source": [
        "transforms_train = transforms.Compose([\n",
        "    transforms.RandomHorizontalFlip(p=0.5),\n",
        "    transforms.RandomVerticalFlip(p=0.5),\n",
        "    transforms.ToTensor(),\n",
        "    transforms.Normalize(\n",
        "        [0.485, 0.456, 0.406],\n",
        "        [0.229, 0.224, 0.225]\n",
        "    )\n",
        "])\n",
        "\n",
        "transforms_test = transforms.Compose([\n",
        "    transforms.ToTensor(),\n",
        "    transforms.Normalize(\n",
        "        [0.485, 0.456, 0.406],\n",
        "        [0.229, 0.224, 0.225]\n",
        "    )\n",
        "])"
      ]
    },
    {
      "cell_type": "code",
      "execution_count": 7,
      "metadata": {
        "id": "fTvYYjNnBtpr",
        "colab": {
          "base_uri": "https://localhost:8080/"
        },
        "outputId": "fd6b1e8e-d6b5-47d1-ff94-cf3fc30aa3ea"
      },
      "outputs": [
        {
          "output_type": "stream",
          "name": "stderr",
          "text": [
            "/usr/local/lib/python3.7/dist-packages/torch/utils/data/dataloader.py:490: UserWarning: This DataLoader will create 8 worker processes in total. Our suggested max number of worker in current system is 2, which is smaller than what this DataLoader is going to create. Please be aware that excessive worker creation might get DataLoader running slow or even freeze, lower the worker number to avoid potential slowness/freeze if necessary.\n",
            "  cpuset_checked))\n",
            "/usr/local/lib/python3.7/dist-packages/torch/utils/data/dataloader.py:490: UserWarning: This DataLoader will create 4 worker processes in total. Our suggested max number of worker in current system is 2, which is smaller than what this DataLoader is going to create. Please be aware that excessive worker creation might get DataLoader running slow or even freeze, lower the worker number to avoid potential slowness/freeze if necessary.\n",
            "  cpuset_checked))\n"
          ]
        }
      ],
      "source": [
        "trainset = MnistDataset('/content/drive/MyDrive/Train image', '/content/drive/MyDrive/dirty_mnist_2nd_answer.csv', transforms_train)\n",
        "testset = MnistDataset('/content/drive/MyDrive/Test image', '/content/drive/MyDrive/sample_submission.csv', transforms_test)\n",
        "\n",
        "train_loader = DataLoader(trainset, batch_size=256, num_workers=8)\n",
        "test_loader = DataLoader(testset, batch_size=32, num_workers=4)"
      ]
    },
    {
      "source": [
        "## 3. ResNet50 모형"
      ],
      "cell_type": "markdown",
      "metadata": {
        "id": "CJV1syjOBtps"
      }
    },
    {
      "cell_type": "code",
      "execution_count": 8,
      "metadata": {
        "id": "kziKrm1tBtpt",
        "colab": {
          "base_uri": "https://localhost:8080/",
          "height": 877,
          "referenced_widgets": [
            "2960d35ddcf14c33bb5f494a47819b21",
            "fb7364c8f25d4550b721ec695eca1187",
            "ebfc5092596641f394536a4f7abe74c2",
            "cd124b30d17f438a8d39ab82efec48e0",
            "44abbddda97742a888b07f0441aced4b",
            "faecdf7761ee4e84b8d3099aa1f9f9d6",
            "dae637437dff4088a1b305119f1eb618",
            "e04a3c32a19845f8a14c670fe4eb8965",
            "cbc73254a284433aa6d2aaf807b2860b",
            "c4e9e3a96c1e4199a3743197e40d24b8",
            "54835c051d714dbbaac34270e465ff1a"
          ]
        },
        "outputId": "1d4332ca-6d78-4b93-fff3-e6ef3a1d1f58"
      },
      "outputs": [
        {
          "output_type": "stream",
          "name": "stderr",
          "text": [
            "Downloading: \"https://download.pytorch.org/models/resnet50-0676ba61.pth\" to /root/.cache/torch/hub/checkpoints/resnet50-0676ba61.pth\n"
          ]
        },
        {
          "output_type": "display_data",
          "data": {
            "text/plain": [
              "  0%|          | 0.00/97.8M [00:00<?, ?B/s]"
            ],
            "application/vnd.jupyter.widget-view+json": {
              "version_major": 2,
              "version_minor": 0,
              "model_id": "2960d35ddcf14c33bb5f494a47819b21"
            }
          },
          "metadata": {}
        },
        {
          "output_type": "stream",
          "name": "stdout",
          "text": [
            "===============================================================================================\n",
            "Layer (type:depth-idx)                        Output Shape              Param #\n",
            "===============================================================================================\n",
            "MnistModel                                    --                        --\n",
            "├─ResNet: 1-1                                 [1, 1000]                 --\n",
            "│    └─Conv2d: 2-1                            [1, 64, 128, 128]         9,408\n",
            "│    └─BatchNorm2d: 2-2                       [1, 64, 128, 128]         128\n",
            "│    └─ReLU: 2-3                              [1, 64, 128, 128]         --\n",
            "│    └─MaxPool2d: 2-4                         [1, 64, 64, 64]           --\n",
            "│    └─Sequential: 2-5                        [1, 256, 64, 64]          --\n",
            "│    │    └─Bottleneck: 3-1                   [1, 256, 64, 64]          75,008\n",
            "│    │    └─Bottleneck: 3-2                   [1, 256, 64, 64]          70,400\n",
            "│    │    └─Bottleneck: 3-3                   [1, 256, 64, 64]          70,400\n",
            "│    └─Sequential: 2-6                        [1, 512, 32, 32]          --\n",
            "│    │    └─Bottleneck: 3-4                   [1, 512, 32, 32]          379,392\n",
            "│    │    └─Bottleneck: 3-5                   [1, 512, 32, 32]          280,064\n",
            "│    │    └─Bottleneck: 3-6                   [1, 512, 32, 32]          280,064\n",
            "│    │    └─Bottleneck: 3-7                   [1, 512, 32, 32]          280,064\n",
            "│    └─Sequential: 2-7                        [1, 1024, 16, 16]         --\n",
            "│    │    └─Bottleneck: 3-8                   [1, 1024, 16, 16]         1,512,448\n",
            "│    │    └─Bottleneck: 3-9                   [1, 1024, 16, 16]         1,117,184\n",
            "│    │    └─Bottleneck: 3-10                  [1, 1024, 16, 16]         1,117,184\n",
            "│    │    └─Bottleneck: 3-11                  [1, 1024, 16, 16]         1,117,184\n",
            "│    │    └─Bottleneck: 3-12                  [1, 1024, 16, 16]         1,117,184\n",
            "│    │    └─Bottleneck: 3-13                  [1, 1024, 16, 16]         1,117,184\n",
            "│    └─Sequential: 2-8                        [1, 2048, 8, 8]           --\n",
            "│    │    └─Bottleneck: 3-14                  [1, 2048, 8, 8]           6,039,552\n",
            "│    │    └─Bottleneck: 3-15                  [1, 2048, 8, 8]           4,462,592\n",
            "│    │    └─Bottleneck: 3-16                  [1, 2048, 8, 8]           4,462,592\n",
            "│    └─AdaptiveAvgPool2d: 2-9                 [1, 2048, 1, 1]           --\n",
            "│    └─Linear: 2-10                           [1, 1000]                 2,049,000\n",
            "├─Linear: 1-2                                 [1, 26]                   26,026\n",
            "===============================================================================================\n",
            "Total params: 25,583,058\n",
            "Trainable params: 25,583,058\n",
            "Non-trainable params: 0\n",
            "Total mult-adds (G): 5.34\n",
            "===============================================================================================\n",
            "Input size (MB): 0.79\n",
            "Forward/backward pass size (MB): 232.27\n",
            "Params size (MB): 102.33\n",
            "Estimated Total Size (MB): 335.39\n",
            "===============================================================================================\n"
          ]
        }
      ],
      "source": [
        "class MnistModel(nn.Module):\n",
        "    def __init__(self) -> None:\n",
        "        super().__init__()\n",
        "        self.resnet = resnet50(pretrained=True)\n",
        "        self.classifier = nn.Linear(1000, 26)\n",
        "\n",
        "    def forward(self, x):\n",
        "        x = self.resnet(x)\n",
        "        x = self.classifier(x)\n",
        "\n",
        "        return x\n",
        "\n",
        "device = torch.device('cuda' if torch.cuda.is_available() else 'cpu')\n",
        "model = MnistModel().to(device)\n",
        "print(summary(model, input_size=(1, 3, 256, 256), verbose=0))"
      ]
    },
    {
      "source": [
        "## 4. 학습하기"
      ],
      "cell_type": "markdown",
      "metadata": {
        "id": "aI_79bn8Btpw"
      }
    },
    {
      "cell_type": "code",
      "execution_count": null,
      "metadata": {
        "id": "IZ3j-bG4Btpy",
        "colab": {
          "base_uri": "https://localhost:8080/"
        },
        "outputId": "f9b1ce2a-96c7-4d8b-ebb4-86a4a5ac79cf"
      },
      "outputs": [
        {
          "output_type": "stream",
          "name": "stderr",
          "text": [
            "/usr/local/lib/python3.7/dist-packages/torch/utils/data/dataloader.py:490: UserWarning: This DataLoader will create 8 worker processes in total. Our suggested max number of worker in current system is 2, which is smaller than what this DataLoader is going to create. Please be aware that excessive worker creation might get DataLoader running slow or even freeze, lower the worker number to avoid potential slowness/freeze if necessary.\n",
            "  cpuset_checked))\n"
          ]
        }
      ],
      "source": [
        "optimizer = optim.Adam(model.parameters(), lr=1e-3)\n",
        "criterion = nn.MultiLabelSoftMarginLoss()\n",
        "\n",
        "num_epochs = 10\n",
        "model.train()\n",
        "\n",
        "for epoch in range(num_epochs):\n",
        "    for i, (images, targets) in enumerate(train_loader):\n",
        "        optimizer.zero_grad()\n",
        "\n",
        "        images = images.to(device)\n",
        "        targets = targets.to(device)\n",
        "\n",
        "        outputs = model(images)\n",
        "        loss = criterion(outputs, targets)\n",
        "\n",
        "        loss.backward()\n",
        "        optimizer.step()\n",
        "\n",
        "        if (i+1) % 10 == 0:\n",
        "            outputs = outputs > 0.5\n",
        "            acc = (outputs == targets).float().mean()\n",
        "            print(f'{epoch}: {loss.item():.5f}, {acc.item():.5f}')"
      ]
    },
    {
      "source": [
        "## 5. 추론하기"
      ],
      "cell_type": "markdown",
      "metadata": {
        "id": "GeYvHfUtBtpz"
      }
    },
    {
      "cell_type": "code",
      "execution_count": null,
      "metadata": {
        "id": "iSfp-slSBtp0"
      },
      "outputs": [],
      "source": [
        "submit = pd.read_csv('data/sample_submission.csv')\n",
        "\n",
        "model.eval()\n",
        "batch_size = test_loader.batch_size\n",
        "batch_index = 0\n",
        "for i, (images, targets) in enumerate(test_loader):\n",
        "    images = images.to(device)\n",
        "    targets = targets.to(device)\n",
        "    outputs = model(images)\n",
        "    outputs = outputs > 0.5\n",
        "    batch_index = i * batch_size\n",
        "    submit.iloc[batch_index:batch_index+batch_size, 1:] = \\\n",
        "        outputs.long().squeeze(0).detach().cpu().numpy()\n",
        "    \n",
        "submit.to_csv('submit.csv', index=False)"
      ]
    },
    {
      "cell_type": "code",
      "source": [
        ""
      ],
      "metadata": {
        "id": "eL0SuxUHUirr"
      },
      "execution_count": null,
      "outputs": []
    }
  ]
}